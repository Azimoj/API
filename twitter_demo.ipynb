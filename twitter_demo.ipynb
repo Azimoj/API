{
 "cells": [
  {
   "cell_type": "markdown",
   "metadata": {},
   "source": [
    "# Démo : Requêter Twitter avec l'API wrapper Python"
   ]
  },
  {
   "cell_type": "markdown",
   "metadata": {},
   "source": [
    "Souvent, les entreprises qui mettent à disposition une API développent également un **package Python** pour **simplifier l'écriture des requêtes**. Les fonctions du package sont \"au-dessus\" de l'API, càd elles permettent de créer des requêtes avec une syntaxe plus concise et souvent plus parlante. Si aucun package n'existe, il arrive aussi que la communauté Python en développe un en open source. On appelle ces packages des **\"API wrapper\"**.\n",
    "\n",
    "Pour Twitter, l'API wrapper s'appelle **`tweepy`**, et c'est ce package que nous utiliserons désormais plutôt que d'écrire des requêtes \"à la main\"."
   ]
  },
  {
   "cell_type": "markdown",
   "metadata": {},
   "source": [
    "### Installation"
   ]
  },
  {
   "cell_type": "code",
   "execution_count": null,
   "metadata": {
    "ExecuteTime": {
     "end_time": "2021-09-17T16:20:11.386647Z",
     "start_time": "2021-09-17T16:20:07.717704Z"
    },
    "scrolled": true
   },
   "outputs": [],
   "source": [
    "!pip install tweepy"
   ]
  },
  {
   "cell_type": "code",
   "execution_count": null,
   "metadata": {
    "ExecuteTime": {
     "end_time": "2021-09-17T16:25:45.561682Z",
     "start_time": "2021-09-17T16:25:45.019777Z"
    }
   },
   "outputs": [],
   "source": [
    "import tweepy"
   ]
  },
  {
   "cell_type": "code",
   "execution_count": null,
   "metadata": {
    "ExecuteTime": {
     "end_time": "2021-09-17T16:26:54.173319Z",
     "start_time": "2021-09-17T16:26:54.138277Z"
    }
   },
   "outputs": [],
   "source": [
    "# Insérer vos propres clés\n",
    "API_KEY = 'XbjfuYB3nDsKemMHmVTtE49fO'\n",
    "API_SECRET_KEY = 'pbopldUhm106pRAvs1fvspGBMo0zIJcTSgVRu0Q3BzvuRDAEXI'\n",
    "BEARER_TOKEN = 'AAAAAAAAAAAAAAAAAAAAAO%2FqOgEAAAAArkiiQQmmxHqWAbuMWQga4yAlyFU%3D34ARFGqY4UDZOiMNaOJJqXH52aeseNUFskcsqHv3py9Rrm9uNC'"
   ]
  },
  {
   "cell_type": "code",
   "execution_count": null,
   "metadata": {
    "ExecuteTime": {
     "end_time": "2021-09-17T16:26:59.699775Z",
     "start_time": "2021-09-17T16:26:59.305206Z"
    }
   },
   "outputs": [],
   "source": [
    "# Authentification et connexion à l'API\n",
    "auth = tweepy.AppAuthHandler(API_KEY, API_SECRET_KEY)\n",
    "api = tweepy.API(auth, wait_on_rate_limit=True, wait_on_rate_limit_notify=True)"
   ]
  },
  {
   "cell_type": "markdown",
   "metadata": {},
   "source": [
    "### Recherche de tweets"
   ]
  },
  {
   "cell_type": "markdown",
   "metadata": {},
   "source": [
    "Pour cet exemple, recherchons les tweets les plus récents à props de Tesla. Nous allons utiliser la fonction `.Cursor` de tweepy pour obtenir un objet contenant les résultats de notre requête. En arguments, nous précisions notre recherche (mots-clés recherchés, langue, dates). Il est possible de restreindre le nombre de tweets reçus en terminant la commande par `.items(n)`.\n",
    "\n",
    "Les mots-clés recherchés doivent respecter la syntaxe des queries Twitter, qui est particulière à cette API et détaillée dans la [documentation](https://developer.twitter.com/en/docs/labs/recent-search/guides/search-queries). Les règles principales sont : \n",
    "\n",
    "* Ecrire les mots ou hashtags que l'on recherche sans guillemets, les séparer par des espaces\n",
    "* Les guillements permettent de rechercher des expressions exactes\n",
    "* On peut utiliser `OR `et `AND`, et grouper les conditions avec des parenthèses\n",
    "* L'opérateur `-` avant un mot, permet de le filtrer\n",
    "* Plusieurs flags, comme `-filter:retweeets`, permettent de préciser encore la requête."
   ]
  },
  {
   "cell_type": "code",
   "execution_count": null,
   "metadata": {
    "ExecuteTime": {
     "end_time": "2021-09-17T16:28:48.316022Z",
     "start_time": "2021-09-17T16:28:48.308082Z"
    }
   },
   "outputs": [],
   "source": [
    "# Définition des termes de la recherche \n",
    "query = 'tesla OR musk -filter:retweets'"
   ]
  },
  {
   "cell_type": "code",
   "execution_count": null,
   "metadata": {
    "ExecuteTime": {
     "end_time": "2021-09-17T16:30:25.246118Z",
     "start_time": "2021-09-17T16:30:24.437118Z"
    }
   },
   "outputs": [],
   "source": [
    "# Récupération des tweets\n",
    "tweets = tweepy.Cursor(api.search,\n",
    "                       q=query,\n",
    "                       lang=\"en\",\n",
    "                       tweet_mode=\"extended\",\n",
    "                       since=\"2021-09-15\", # remplacez les dates\n",
    "                       until=\"2021-09-18\", \n",
    "                      ).items(10)\n",
    "tweets = list(tweets)"
   ]
  },
  {
   "cell_type": "code",
   "execution_count": null,
   "metadata": {
    "ExecuteTime": {
     "end_time": "2021-09-17T16:31:18.967787Z",
     "start_time": "2021-09-17T16:31:18.931650Z"
    },
    "scrolled": false
   },
   "outputs": [],
   "source": [
    "# Observation de la réponse JSON pour le premier tweet\n",
    "tweets[0]._json"
   ]
  },
  {
   "cell_type": "markdown",
   "metadata": {},
   "source": [
    "Chaque tweet reçu est sous forme de JSON (dictionnaire), avec de très nombreux attributs : le texte du tweet, son émetteur, sa date, la localisation du profil de l'utilisateur, etc. Nous verrons dans le use case quels atributs sont les plus pertinents pour réaliser des analyses statistiques !"
   ]
  },
  {
   "cell_type": "markdown",
   "metadata": {},
   "source": [
    "### Extraction d'attributs"
   ]
  },
  {
   "cell_type": "code",
   "execution_count": null,
   "metadata": {
    "ExecuteTime": {
     "end_time": "2021-09-17T16:33:36.492035Z",
     "start_time": "2021-09-17T16:33:36.468931Z"
    }
   },
   "outputs": [],
   "source": [
    "import tqdm"
   ]
  },
  {
   "cell_type": "code",
   "execution_count": null,
   "metadata": {
    "ExecuteTime": {
     "end_time": "2021-09-17T16:33:42.910586Z",
     "start_time": "2021-09-17T16:33:42.743140Z"
    }
   },
   "outputs": [],
   "source": [
    "# Extraction d'informations pour tous les tweets reçus\n",
    "\n",
    "tweets_infos = []\n",
    "for tweet in tqdm.tqdm(tweets):\n",
    "    tweet_info = [tweet.full_text, \n",
    "                  tweet.created_at,\n",
    "                  tweet.user.location,\n",
    "                  tweet.user.screen_name]\n",
    "    tweets_infos.append(tweet_info)"
   ]
  },
  {
   "cell_type": "code",
   "execution_count": null,
   "metadata": {
    "ExecuteTime": {
     "end_time": "2021-09-17T16:35:09.568059Z",
     "start_time": "2021-09-17T16:35:09.502308Z"
    },
    "scrolled": true
   },
   "outputs": [],
   "source": [
    "tweets_infos"
   ]
  },
  {
   "cell_type": "code",
   "execution_count": null,
   "metadata": {},
   "outputs": [],
   "source": []
  },
  {
   "cell_type": "code",
   "execution_count": null,
   "metadata": {},
   "outputs": [],
   "source": []
  }
 ],
 "metadata": {
  "hide_input": false,
  "kernelspec": {
   "display_name": "Python 3 (ipykernel)",
   "language": "python",
   "name": "python3"
  },
  "language_info": {
   "codemirror_mode": {
    "name": "ipython",
    "version": 3
   },
   "file_extension": ".py",
   "mimetype": "text/x-python",
   "name": "python",
   "nbconvert_exporter": "python",
   "pygments_lexer": "ipython3",
   "version": "3.9.5"
  },
  "toc": {
   "base_numbering": 1,
   "nav_menu": {},
   "number_sections": true,
   "sideBar": true,
   "skip_h1_title": false,
   "title_cell": "Table of Contents",
   "title_sidebar": "Contents",
   "toc_cell": false,
   "toc_position": {
    "height": "calc(100% - 180px)",
    "left": "10px",
    "top": "150px",
    "width": "195.2857208251953px"
   },
   "toc_section_display": true,
   "toc_window_display": true
  }
 },
 "nbformat": 4,
 "nbformat_minor": 4
}
