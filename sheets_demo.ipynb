{
 "cells": [
  {
   "cell_type": "markdown",
   "id": "pending-ontario",
   "metadata": {},
   "source": [
    "# Démo : Utiliser l'API Google Sheets"
   ]
  },
  {
   "cell_type": "markdown",
   "id": "important-lawrence",
   "metadata": {},
   "source": [
    "Ce notebook présente les principales fonctions et méthodes de l'API Google Sheets, qui sera utilisée dans le use case APIs.\n",
    "\n",
    "Pour pouvoir exécuter les cellules, il est nécessaire d'avoir configuré un compte de service Google Cloud - n'hésitez pas à télécharger le PDF d'instructions.\n",
    "\n",
    "Nous utiliserons l'API wrapper `gspread` (Google Spreadsheets), dont la documentation est disponible [ici](https://gspread.readthedocs.io/en/latest/user-guide.html)."
   ]
  },
  {
   "cell_type": "markdown",
   "id": "addressed-improvement",
   "metadata": {},
   "source": [
    "### Installation"
   ]
  },
  {
   "cell_type": "code",
   "execution_count": null,
   "id": "labeled-mandate",
   "metadata": {
    "ExecuteTime": {
     "end_time": "2021-04-21T18:47:09.095967Z",
     "start_time": "2021-04-21T18:47:04.560213Z"
    },
    "scrolled": true
   },
   "outputs": [],
   "source": [
    "!pip install gspread \n",
    "!pip install oauth2client"
   ]
  },
  {
   "cell_type": "code",
   "execution_count": null,
   "id": "convinced-heavy",
   "metadata": {
    "ExecuteTime": {
     "end_time": "2021-04-21T22:25:48.042389Z",
     "start_time": "2021-04-21T22:25:47.534769Z"
    }
   },
   "outputs": [],
   "source": [
    "import gspread"
   ]
  },
  {
   "cell_type": "markdown",
   "id": "equivalent-simulation",
   "metadata": {},
   "source": [
    "### Connexion à l'API Google Sheets"
   ]
  },
  {
   "cell_type": "code",
   "execution_count": null,
   "id": "measured-racing",
   "metadata": {
    "ExecuteTime": {
     "end_time": "2021-04-21T22:25:48.779857Z",
     "start_time": "2021-04-21T22:25:48.775659Z"
    }
   },
   "outputs": [],
   "source": [
    "# Copier-coller le chemin de la clé téléchargée lors de la création du compte\n",
    "# Cela devrait ressembler à : \n",
    "path = \"/Users/Thomas/Downloads/databird-309423-c4ff87ee5aec.json\""
   ]
  },
  {
   "cell_type": "code",
   "execution_count": null,
   "id": "violent-newfoundland",
   "metadata": {
    "ExecuteTime": {
     "end_time": "2021-04-21T22:25:49.139034Z",
     "start_time": "2021-04-21T22:25:49.117109Z"
    }
   },
   "outputs": [],
   "source": [
    "# Authentification / Création du client\n",
    "gc = gspread.service_account(filename=path)"
   ]
  },
  {
   "cell_type": "markdown",
   "id": "nuclear-filename",
   "metadata": {},
   "source": [
    "## Manipuler les fichiers Google Sheets"
   ]
  },
  {
   "cell_type": "markdown",
   "id": "practical-municipality",
   "metadata": {},
   "source": [
    "### Ouvrir un fichier Google Sheets"
   ]
  },
  {
   "cell_type": "markdown",
   "id": "editorial-sacramento",
   "metadata": {},
   "source": [
    "Il est possible d'ouvrir une spreadsheet par son nom, sa clé (visible dans l'URL du spreadsheet) ou bien son url complète. \n",
    "\n",
    "Dans cet exemple, j'utilise un fichier vide nomme \"Twitter Analysis\" ([lien](https://docs.google.com/spreadsheets/d/1c_Eij3Y-fAX7qaOQKSFOBivtV5Zb3oNprY3qE_PiNZU/edit#gid=0)), que j'ai auparavant créé et que j'utiliserai dans le use case APIs. Vous pouvez le copier afin d'avoir un fichier similaire."
   ]
  },
  {
   "cell_type": "code",
   "execution_count": null,
   "id": "requested-bacteria",
   "metadata": {
    "ExecuteTime": {
     "end_time": "2021-04-21T22:44:21.055564Z",
     "start_time": "2021-04-21T22:44:20.568333Z"
    },
    "scrolled": false
   },
   "outputs": [],
   "source": [
    "file = gc.open_by_url('https://docs.google.com/spreadsheets/d/1c_Eij3Y-fAX7qaOQKSFOBivtV5Zb3oNprY3qE_PiNZU/edit#gid=0')\n",
    "file = gc.open_by_key('1c_Eij3Y-fAX7qaOQKSFOBivtV5Zb3oNprY3qE_PiNZU')\n",
    "#file = gc.open('twitter-analysis')\n",
    "file"
   ]
  },
  {
   "cell_type": "markdown",
   "id": "junior-timothy",
   "metadata": {},
   "source": [
    "### Sélectionner une feuille de calcul"
   ]
  },
  {
   "cell_type": "markdown",
   "id": "intensive-worry",
   "metadata": {},
   "source": [
    "Une fois le fichier ouvert, nous avons besoin de sélectionner l'une des feuilles de calcul, soit par son titre, soit par son numéro d'index, soit avec l'attribut `.sheet1` (nom par défaut de la première feuille de calcul)."
   ]
  },
  {
   "cell_type": "code",
   "execution_count": null,
   "id": "amber-nudist",
   "metadata": {
    "ExecuteTime": {
     "end_time": "2021-04-21T22:49:48.121213Z",
     "start_time": "2021-04-21T22:49:47.228776Z"
    },
    "scrolled": true
   },
   "outputs": [],
   "source": [
    "worksheet = file.sheet1\n",
    "worksheet = file.get_worksheet(0)\n",
    "#worksheet = file.worksheet(\"Statistics\")\n",
    "worksheet"
   ]
  },
  {
   "cell_type": "code",
   "execution_count": null,
   "id": "better-patrick",
   "metadata": {
    "ExecuteTime": {
     "end_time": "2021-04-21T22:49:45.480323Z",
     "start_time": "2021-04-21T22:49:44.958895Z"
    }
   },
   "outputs": [],
   "source": [
    "# Tout d'un seul coup\n",
    "worksheet = gc.open_by_key('1c_Eij3Y-fAX7qaOQKSFOBivtV5Zb3oNprY3qE_PiNZU').sheet1"
   ]
  },
  {
   "cell_type": "markdown",
   "id": "accepting-penguin",
   "metadata": {},
   "source": [
    "### BONUS : Créer / partager / supprimer  un fichier et une feuille de calcul"
   ]
  },
  {
   "cell_type": "markdown",
   "id": "roman-concentrate",
   "metadata": {},
   "source": [
    "Le package nous permet également de créer et de partager un nouveau Google Sheets programmatiquement. Dans ce fichier, nous pouvons ajouter ou supprimer des feuilles de calcul. Vous pouvez vérifier que tout fonctionne au fur et à mesure dans votre compte Google !"
   ]
  },
  {
   "cell_type": "code",
   "execution_count": null,
   "id": "negative-virus",
   "metadata": {
    "ExecuteTime": {
     "end_time": "2021-04-21T22:36:47.626641Z",
     "start_time": "2021-04-21T22:36:45.554500Z"
    }
   },
   "outputs": [],
   "source": [
    "# Créer une spreadsheet vide\n",
    "new_file = gc.create('A new spreadsheet')"
   ]
  },
  {
   "cell_type": "code",
   "execution_count": null,
   "id": "excellent-sheriff",
   "metadata": {
    "ExecuteTime": {
     "end_time": "2021-04-21T22:37:52.035277Z",
     "start_time": "2021-04-21T22:37:50.328361Z"
    }
   },
   "outputs": [],
   "source": [
    "# Partager une spreadsheet\n",
    "new_file.share('contact@data-bird.co', perm_type='user', role='writer')"
   ]
  },
  {
   "cell_type": "code",
   "execution_count": null,
   "id": "outside-welding",
   "metadata": {
    "ExecuteTime": {
     "end_time": "2021-04-21T22:51:40.359246Z",
     "start_time": "2021-04-21T22:51:39.657473Z"
    }
   },
   "outputs": [],
   "source": [
    "# Ajouter une feuille de calcul\n",
    "new_worksheet = file.add_worksheet(title=\"A new worksheet\", rows=\"100\", cols=\"20\")\n",
    "\n",
    "file.worksheets()"
   ]
  },
  {
   "cell_type": "code",
   "execution_count": null,
   "id": "killing-terminal",
   "metadata": {
    "ExecuteTime": {
     "end_time": "2021-04-21T22:51:54.081095Z",
     "start_time": "2021-04-21T22:51:53.487614Z"
    }
   },
   "outputs": [],
   "source": [
    "# Supprimer une feuille de calcul\n",
    "file.del_worksheet(new_worksheet)\n",
    "\n",
    "file.worksheets()"
   ]
  },
  {
   "cell_type": "markdown",
   "id": "cubic-martin",
   "metadata": {},
   "source": [
    "## Manipuler les cellules d'un fichier Google Sheets"
   ]
  },
  {
   "cell_type": "markdown",
   "id": "foster-electron",
   "metadata": {},
   "source": [
    "### Modifier les cellules et les lignes"
   ]
  },
  {
   "cell_type": "markdown",
   "id": "industrial-happiness",
   "metadata": {},
   "source": [
    "Pour modifier une cellule ou plage de cellule, nous pouvons utiliser la méthode  `.update()`, en précisant les coordonnées des cellules à modifier."
   ]
  },
  {
   "cell_type": "code",
   "execution_count": null,
   "id": "strategic-halloween",
   "metadata": {
    "ExecuteTime": {
     "end_time": "2021-04-21T23:07:21.257825Z",
     "start_time": "2021-04-21T23:07:19.993738Z"
    }
   },
   "outputs": [],
   "source": [
    "# Modifier cellule individuelle\n",
    "worksheet.update('D2', 'Bingo!')"
   ]
  },
  {
   "cell_type": "code",
   "execution_count": null,
   "id": "general-graduate",
   "metadata": {
    "ExecuteTime": {
     "end_time": "2021-04-21T23:07:25.922642Z",
     "start_time": "2021-04-21T23:07:25.370854Z"
    }
   },
   "outputs": [],
   "source": [
    "# Modifier une plage de cellules\n",
    "worksheet.update('A2:B3', [[1, 2], [3, 4]])"
   ]
  },
  {
   "cell_type": "markdown",
   "id": "interim-regulation",
   "metadata": {},
   "source": [
    "La **méthode que nous utiliserons le plus** dans le cas pratique de ce module est d'**ajouter une ligne à la fin d'une feuille** : `.append_row()`, qui prend en argument les données à ajouter sous forme de **liste**."
   ]
  },
  {
   "cell_type": "code",
   "execution_count": null,
   "id": "fixed-dominican",
   "metadata": {
    "ExecuteTime": {
     "end_time": "2021-04-21T23:32:41.928606Z",
     "start_time": "2021-04-21T23:32:41.916771Z"
    }
   },
   "outputs": [],
   "source": [
    "test = list(range(13))"
   ]
  },
  {
   "cell_type": "code",
   "execution_count": null,
   "id": "subtle-foundation",
   "metadata": {
    "ExecuteTime": {
     "end_time": "2021-04-21T23:34:52.874090Z",
     "start_time": "2021-04-21T23:34:52.128303Z"
    }
   },
   "outputs": [],
   "source": [
    "worksheet.append_row(test)"
   ]
  },
  {
   "cell_type": "markdown",
   "id": "temporal-carter",
   "metadata": {},
   "source": [
    "### BONUS : Extraire les valeurs des cellules"
   ]
  },
  {
   "cell_type": "markdown",
   "id": "pursuant-memphis",
   "metadata": {},
   "source": [
    "On extrait les données d'une cellule avec `acell()` ou `cell()` et la méthode `.value`. Pour récupérer toute une ligne ou colonne, la méthode sera :  `.row_values()` ou `col_values()`.\n",
    "\n",
    "Remarque : on peut ajouter le paramètre  `value_render_option='FORMULA'` dans  `acell()` ou `cell()` pour récupérer la formule de la cellule plutôt que sa valeur."
   ]
  },
  {
   "cell_type": "code",
   "execution_count": null,
   "id": "ecological-unknown",
   "metadata": {
    "ExecuteTime": {
     "end_time": "2021-04-21T23:00:04.373590Z",
     "start_time": "2021-04-21T23:00:03.310681Z"
    }
   },
   "outputs": [],
   "source": [
    "b1 = worksheet.acell('B1').value\n",
    "b1 = worksheet.cell(1, 2).value\n",
    "b1"
   ]
  },
  {
   "cell_type": "code",
   "execution_count": null,
   "id": "sharp-tobago",
   "metadata": {
    "ExecuteTime": {
     "end_time": "2021-04-21T23:02:44.170671Z",
     "start_time": "2021-04-21T23:02:43.223383Z"
    }
   },
   "outputs": [],
   "source": [
    "first_row = worksheet.row_values(1)\n",
    "first_col = worksheet.col_values(1)\n",
    "first_row"
   ]
  },
  {
   "cell_type": "markdown",
   "id": "colored-neutral",
   "metadata": {},
   "source": [
    "Enfin, il existe une méthode pour recréer un dataframe à partir d'une feuille Google Sheets :"
   ]
  },
  {
   "cell_type": "code",
   "execution_count": null,
   "id": "frank-closer",
   "metadata": {
    "ExecuteTime": {
     "end_time": "2021-04-21T23:17:18.688957Z",
     "start_time": "2021-04-21T23:17:16.433206Z"
    }
   },
   "outputs": [],
   "source": [
    "import pandas as pd\n",
    "\n",
    "df = pd.DataFrame(worksheet.get_all_records())\n",
    "df"
   ]
  },
  {
   "cell_type": "markdown",
   "id": "forty-firmware",
   "metadata": {},
   "source": [
    "Beaucoup d'autres commandes existent. En particulier, on peut rechercher les cellules contenant un texte spécifique avec `.find()` et `.findall()`, et on peut formatter les cellules avec `.format()`."
   ]
  },
  {
   "cell_type": "code",
   "execution_count": null,
   "id": "aerial-devon",
   "metadata": {
    "ExecuteTime": {
     "end_time": "2021-04-21T23:40:24.574469Z",
     "start_time": "2021-04-21T23:40:23.858913Z"
    }
   },
   "outputs": [],
   "source": [
    "# Formatage de l'en-tête \n",
    "worksheet.format('A1:M1', {'textFormat': {'italic': True}})"
   ]
  },
  {
   "cell_type": "markdown",
   "id": "organic-technology",
   "metadata": {},
   "source": [
    "N'hésitez pas à lire la [documentation](https://gspread.readthedocs.io/en/latest/user-guide.html) pour en apprendre plus ! "
   ]
  },
  {
   "cell_type": "code",
   "execution_count": null,
   "id": "latter-discretion",
   "metadata": {},
   "outputs": [],
   "source": []
  }
 ],
 "metadata": {
  "hide_input": false,
  "kernelspec": {
   "display_name": "Python 3",
   "language": "python",
   "name": "python3"
  },
  "language_info": {
   "codemirror_mode": {
    "name": "ipython",
    "version": 3
   },
   "file_extension": ".py",
   "mimetype": "text/x-python",
   "name": "python",
   "nbconvert_exporter": "python",
   "pygments_lexer": "ipython3",
   "version": "3.9.1"
  },
  "toc": {
   "base_numbering": 1,
   "nav_menu": {},
   "number_sections": true,
   "sideBar": true,
   "skip_h1_title": false,
   "title_cell": "Table of Contents",
   "title_sidebar": "Contents",
   "toc_cell": false,
   "toc_position": {},
   "toc_section_display": true,
   "toc_window_display": true
  }
 },
 "nbformat": 4,
 "nbformat_minor": 5
}
