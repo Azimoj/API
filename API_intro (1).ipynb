{
 "cells": [
  {
   "cell_type": "markdown",
   "id": "531dd29b-2c4e-4151-aade-4e5f1bd2c6f7",
   "metadata": {},
   "source": [
    "# Guide"
   ]
  },
  {
   "cell_type": "markdown",
   "id": "81bdcf0f-8a28-4f64-a2a7-5cdd98c2a5c6",
   "metadata": {},
   "source": [
    "Les grandes étapes pour le requêtage d'API sont:\n",
    "- import libraires\n",
    "\n",
    "- définir l'url de l'API que l'on va requêter\n",
    "\n",
    "- vérifier si on doit s'authentifier\n",
    "\n",
    "- vérifier si on doit ajouter des paramètres\n",
    "\n",
    "- requêter l'API avec la méthode get\n",
    "\n",
    "- vérifier que la requête a fonctionné (code: 200)\n",
    "\n",
    "- extraire les données de la réponse\n",
    "\n",
    "- analyser les données"
   ]
  },
  {
   "cell_type": "markdown",
   "id": "f7aba82f-0b2a-493e-b200-f96ef33f7506",
   "metadata": {},
   "source": [
    "# Exemple avec l'API Rick & Morty"
   ]
  },
  {
   "cell_type": "code",
   "execution_count": 2,
   "id": "56721ac7-ee54-4462-9dc8-64770f70e0a3",
   "metadata": {},
   "outputs": [],
   "source": [
    "# import libraires\n",
    "import requests"
   ]
  },
  {
   "cell_type": "code",
   "execution_count": 3,
   "id": "7af2859f-1113-4590-b3f9-4c8e05c84347",
   "metadata": {},
   "outputs": [],
   "source": [
    "# définir l'url de l'API que l'on va requêter\n",
    "url_base = \"https://rickandmortyapi.com/api/\"\n",
    "endpoint = \"character\"\n",
    "\n",
    "#on peut tout à fait écrire l'url complète directement sans la couper en deux\n",
    "#url = \"https://rickandmortyapi.com/api/character\""
   ]
  },
  {
   "cell_type": "code",
   "execution_count": 4,
   "id": "6776b986-ed34-4b29-8581-6bac4a59d927",
   "metadata": {},
   "outputs": [],
   "source": [
    "#on pourrait imaginer un paramètre qui permette de filtrer les personnages\n",
    "parameters = {\n",
    "    \"name\": \"Rick\"\n",
    "}\n",
    "\n",
    "#que l'on pourrait ajouter dans notre méthode get ainsi\n",
    "#response = requests.get(url_base + endpoint, params = parameters)\n",
    "#response = requests.get(url)"
   ]
  },
  {
   "cell_type": "code",
   "execution_count": 5,
   "id": "fb69b5a7-6a51-4ac4-9cb3-3c2e70fd5c2a",
   "metadata": {},
   "outputs": [],
   "source": [
    "# requêter l'API avec la méthode get\n",
    "response = requests.get(url_base + endpoint)\n",
    "\n",
    "#on peut tout à fait écrire l'url directement c'est juste moins Pythonesque!\n",
    "response = requests.get(\"https://rickandmortyapi.com/api/character\")"
   ]
  },
  {
   "cell_type": "code",
   "execution_count": 6,
   "id": "301f72f6-fb65-4379-8b7e-294eca585e0f",
   "metadata": {},
   "outputs": [
    {
     "data": {
      "text/plain": [
       "True"
      ]
     },
     "execution_count": 6,
     "metadata": {},
     "output_type": "execute_result"
    }
   ],
   "source": [
    "# vérifier que la requête a fonctionné (code: 200)\n",
    "response.status_code == 200"
   ]
  },
  {
   "cell_type": "code",
   "execution_count": 7,
   "id": "a4882d50-b2eb-4cc7-8339-39f504407431",
   "metadata": {},
   "outputs": [],
   "source": [
    "# extraire les données de la réponse\n",
    "data = response.json()"
   ]
  },
  {
   "cell_type": "code",
   "execution_count": 8,
   "id": "fac61f95-5589-419b-9e2f-a4e3e498fe4d",
   "metadata": {},
   "outputs": [
    {
     "data": {
      "text/plain": [
       "dict_keys(['info', 'results'])"
      ]
     },
     "execution_count": 8,
     "metadata": {},
     "output_type": "execute_result"
    }
   ],
   "source": [
    "#on récupère les clefs du dictionnaire\n",
    "#comme on ferait un df.columns pour avoir les colonnes d'un dataframe df\n",
    "data.keys()"
   ]
  },
  {
   "cell_type": "code",
   "execution_count": 9,
   "id": "77222a0f-8c42-49dd-bfb7-560c25561b89",
   "metadata": {},
   "outputs": [
    {
     "data": {
      "text/plain": [
       "[{'id': 1,\n",
       "  'name': 'Rick Sanchez',\n",
       "  'status': 'Alive',\n",
       "  'species': 'Human',\n",
       "  'type': '',\n",
       "  'gender': 'Male',\n",
       "  'origin': {'name': 'Earth (C-137)',\n",
       "   'url': 'https://rickandmortyapi.com/api/location/1'},\n",
       "  'location': {'name': 'Citadel of Ricks',\n",
       "   'url': 'https://rickandmortyapi.com/api/location/3'},\n",
       "  'image': 'https://rickandmortyapi.com/api/character/avatar/1.jpeg',\n",
       "  'episode': ['https://rickandmortyapi.com/api/episode/1',\n",
       "   'https://rickandmortyapi.com/api/episode/2',\n",
       "   'https://rickandmortyapi.com/api/episode/3',\n",
       "   'https://rickandmortyapi.com/api/episode/4',\n",
       "   'https://rickandmortyapi.com/api/episode/5',\n",
       "   'https://rickandmortyapi.com/api/episode/6',\n",
       "   'https://rickandmortyapi.com/api/episode/7',\n",
       "   'https://rickandmortyapi.com/api/episode/8',\n",
       "   'https://rickandmortyapi.com/api/episode/9',\n",
       "   'https://rickandmortyapi.com/api/episode/10',\n",
       "   'https://rickandmortyapi.com/api/episode/11',\n",
       "   'https://rickandmortyapi.com/api/episode/12',\n",
       "   'https://rickandmortyapi.com/api/episode/13',\n",
       "   'https://rickandmortyapi.com/api/episode/14',\n",
       "   'https://rickandmortyapi.com/api/episode/15',\n",
       "   'https://rickandmortyapi.com/api/episode/16',\n",
       "   'https://rickandmortyapi.com/api/episode/17',\n",
       "   'https://rickandmortyapi.com/api/episode/18',\n",
       "   'https://rickandmortyapi.com/api/episode/19',\n",
       "   'https://rickandmortyapi.com/api/episode/20',\n",
       "   'https://rickandmortyapi.com/api/episode/21',\n",
       "   'https://rickandmortyapi.com/api/episode/22',\n",
       "   'https://rickandmortyapi.com/api/episode/23',\n",
       "   'https://rickandmortyapi.com/api/episode/24',\n",
       "   'https://rickandmortyapi.com/api/episode/25',\n",
       "   'https://rickandmortyapi.com/api/episode/26',\n",
       "   'https://rickandmortyapi.com/api/episode/27',\n",
       "   'https://rickandmortyapi.com/api/episode/28',\n",
       "   'https://rickandmortyapi.com/api/episode/29',\n",
       "   'https://rickandmortyapi.com/api/episode/30',\n",
       "   'https://rickandmortyapi.com/api/episode/31',\n",
       "   'https://rickandmortyapi.com/api/episode/32',\n",
       "   'https://rickandmortyapi.com/api/episode/33',\n",
       "   'https://rickandmortyapi.com/api/episode/34',\n",
       "   'https://rickandmortyapi.com/api/episode/35',\n",
       "   'https://rickandmortyapi.com/api/episode/36',\n",
       "   'https://rickandmortyapi.com/api/episode/37',\n",
       "   'https://rickandmortyapi.com/api/episode/38',\n",
       "   'https://rickandmortyapi.com/api/episode/39',\n",
       "   'https://rickandmortyapi.com/api/episode/40',\n",
       "   'https://rickandmortyapi.com/api/episode/41',\n",
       "   'https://rickandmortyapi.com/api/episode/42',\n",
       "   'https://rickandmortyapi.com/api/episode/43',\n",
       "   'https://rickandmortyapi.com/api/episode/44',\n",
       "   'https://rickandmortyapi.com/api/episode/45',\n",
       "   'https://rickandmortyapi.com/api/episode/46',\n",
       "   'https://rickandmortyapi.com/api/episode/47',\n",
       "   'https://rickandmortyapi.com/api/episode/48',\n",
       "   'https://rickandmortyapi.com/api/episode/49',\n",
       "   'https://rickandmortyapi.com/api/episode/50',\n",
       "   'https://rickandmortyapi.com/api/episode/51'],\n",
       "  'url': 'https://rickandmortyapi.com/api/character/1',\n",
       "  'created': '2017-11-04T18:48:46.250Z'},\n",
       " {'id': 2,\n",
       "  'name': 'Morty Smith',\n",
       "  'status': 'Alive',\n",
       "  'species': 'Human',\n",
       "  'type': '',\n",
       "  'gender': 'Male',\n",
       "  'origin': {'name': 'unknown', 'url': ''},\n",
       "  'location': {'name': 'Citadel of Ricks',\n",
       "   'url': 'https://rickandmortyapi.com/api/location/3'},\n",
       "  'image': 'https://rickandmortyapi.com/api/character/avatar/2.jpeg',\n",
       "  'episode': ['https://rickandmortyapi.com/api/episode/1',\n",
       "   'https://rickandmortyapi.com/api/episode/2',\n",
       "   'https://rickandmortyapi.com/api/episode/3',\n",
       "   'https://rickandmortyapi.com/api/episode/4',\n",
       "   'https://rickandmortyapi.com/api/episode/5',\n",
       "   'https://rickandmortyapi.com/api/episode/6',\n",
       "   'https://rickandmortyapi.com/api/episode/7',\n",
       "   'https://rickandmortyapi.com/api/episode/8',\n",
       "   'https://rickandmortyapi.com/api/episode/9',\n",
       "   'https://rickandmortyapi.com/api/episode/10',\n",
       "   'https://rickandmortyapi.com/api/episode/11',\n",
       "   'https://rickandmortyapi.com/api/episode/12',\n",
       "   'https://rickandmortyapi.com/api/episode/13',\n",
       "   'https://rickandmortyapi.com/api/episode/14',\n",
       "   'https://rickandmortyapi.com/api/episode/15',\n",
       "   'https://rickandmortyapi.com/api/episode/16',\n",
       "   'https://rickandmortyapi.com/api/episode/17',\n",
       "   'https://rickandmortyapi.com/api/episode/18',\n",
       "   'https://rickandmortyapi.com/api/episode/19',\n",
       "   'https://rickandmortyapi.com/api/episode/20',\n",
       "   'https://rickandmortyapi.com/api/episode/21',\n",
       "   'https://rickandmortyapi.com/api/episode/22',\n",
       "   'https://rickandmortyapi.com/api/episode/23',\n",
       "   'https://rickandmortyapi.com/api/episode/24',\n",
       "   'https://rickandmortyapi.com/api/episode/25',\n",
       "   'https://rickandmortyapi.com/api/episode/26',\n",
       "   'https://rickandmortyapi.com/api/episode/27',\n",
       "   'https://rickandmortyapi.com/api/episode/28',\n",
       "   'https://rickandmortyapi.com/api/episode/29',\n",
       "   'https://rickandmortyapi.com/api/episode/30',\n",
       "   'https://rickandmortyapi.com/api/episode/31',\n",
       "   'https://rickandmortyapi.com/api/episode/32',\n",
       "   'https://rickandmortyapi.com/api/episode/33',\n",
       "   'https://rickandmortyapi.com/api/episode/34',\n",
       "   'https://rickandmortyapi.com/api/episode/35',\n",
       "   'https://rickandmortyapi.com/api/episode/36',\n",
       "   'https://rickandmortyapi.com/api/episode/37',\n",
       "   'https://rickandmortyapi.com/api/episode/38',\n",
       "   'https://rickandmortyapi.com/api/episode/39',\n",
       "   'https://rickandmortyapi.com/api/episode/40',\n",
       "   'https://rickandmortyapi.com/api/episode/41',\n",
       "   'https://rickandmortyapi.com/api/episode/42',\n",
       "   'https://rickandmortyapi.com/api/episode/43',\n",
       "   'https://rickandmortyapi.com/api/episode/44',\n",
       "   'https://rickandmortyapi.com/api/episode/45',\n",
       "   'https://rickandmortyapi.com/api/episode/46',\n",
       "   'https://rickandmortyapi.com/api/episode/47',\n",
       "   'https://rickandmortyapi.com/api/episode/48',\n",
       "   'https://rickandmortyapi.com/api/episode/49',\n",
       "   'https://rickandmortyapi.com/api/episode/50',\n",
       "   'https://rickandmortyapi.com/api/episode/51'],\n",
       "  'url': 'https://rickandmortyapi.com/api/character/2',\n",
       "  'created': '2017-11-04T18:50:21.651Z'},\n",
       " {'id': 3,\n",
       "  'name': 'Summer Smith',\n",
       "  'status': 'Alive',\n",
       "  'species': 'Human',\n",
       "  'type': '',\n",
       "  'gender': 'Female',\n",
       "  'origin': {'name': 'Earth (Replacement Dimension)',\n",
       "   'url': 'https://rickandmortyapi.com/api/location/20'},\n",
       "  'location': {'name': 'Earth (Replacement Dimension)',\n",
       "   'url': 'https://rickandmortyapi.com/api/location/20'},\n",
       "  'image': 'https://rickandmortyapi.com/api/character/avatar/3.jpeg',\n",
       "  'episode': ['https://rickandmortyapi.com/api/episode/6',\n",
       "   'https://rickandmortyapi.com/api/episode/7',\n",
       "   'https://rickandmortyapi.com/api/episode/8',\n",
       "   'https://rickandmortyapi.com/api/episode/9',\n",
       "   'https://rickandmortyapi.com/api/episode/10',\n",
       "   'https://rickandmortyapi.com/api/episode/11',\n",
       "   'https://rickandmortyapi.com/api/episode/12',\n",
       "   'https://rickandmortyapi.com/api/episode/14',\n",
       "   'https://rickandmortyapi.com/api/episode/15',\n",
       "   'https://rickandmortyapi.com/api/episode/16',\n",
       "   'https://rickandmortyapi.com/api/episode/17',\n",
       "   'https://rickandmortyapi.com/api/episode/18',\n",
       "   'https://rickandmortyapi.com/api/episode/19',\n",
       "   'https://rickandmortyapi.com/api/episode/20',\n",
       "   'https://rickandmortyapi.com/api/episode/21',\n",
       "   'https://rickandmortyapi.com/api/episode/22',\n",
       "   'https://rickandmortyapi.com/api/episode/23',\n",
       "   'https://rickandmortyapi.com/api/episode/24',\n",
       "   'https://rickandmortyapi.com/api/episode/25',\n",
       "   'https://rickandmortyapi.com/api/episode/26',\n",
       "   'https://rickandmortyapi.com/api/episode/27',\n",
       "   'https://rickandmortyapi.com/api/episode/29',\n",
       "   'https://rickandmortyapi.com/api/episode/30',\n",
       "   'https://rickandmortyapi.com/api/episode/31',\n",
       "   'https://rickandmortyapi.com/api/episode/32',\n",
       "   'https://rickandmortyapi.com/api/episode/33',\n",
       "   'https://rickandmortyapi.com/api/episode/34',\n",
       "   'https://rickandmortyapi.com/api/episode/35',\n",
       "   'https://rickandmortyapi.com/api/episode/36',\n",
       "   'https://rickandmortyapi.com/api/episode/38',\n",
       "   'https://rickandmortyapi.com/api/episode/39',\n",
       "   'https://rickandmortyapi.com/api/episode/40',\n",
       "   'https://rickandmortyapi.com/api/episode/41',\n",
       "   'https://rickandmortyapi.com/api/episode/42',\n",
       "   'https://rickandmortyapi.com/api/episode/43',\n",
       "   'https://rickandmortyapi.com/api/episode/44',\n",
       "   'https://rickandmortyapi.com/api/episode/45',\n",
       "   'https://rickandmortyapi.com/api/episode/46',\n",
       "   'https://rickandmortyapi.com/api/episode/47',\n",
       "   'https://rickandmortyapi.com/api/episode/48',\n",
       "   'https://rickandmortyapi.com/api/episode/49',\n",
       "   'https://rickandmortyapi.com/api/episode/51'],\n",
       "  'url': 'https://rickandmortyapi.com/api/character/3',\n",
       "  'created': '2017-11-04T19:09:56.428Z'},\n",
       " {'id': 4,\n",
       "  'name': 'Beth Smith',\n",
       "  'status': 'Alive',\n",
       "  'species': 'Human',\n",
       "  'type': '',\n",
       "  'gender': 'Female',\n",
       "  'origin': {'name': 'Earth (Replacement Dimension)',\n",
       "   'url': 'https://rickandmortyapi.com/api/location/20'},\n",
       "  'location': {'name': 'Earth (Replacement Dimension)',\n",
       "   'url': 'https://rickandmortyapi.com/api/location/20'},\n",
       "  'image': 'https://rickandmortyapi.com/api/character/avatar/4.jpeg',\n",
       "  'episode': ['https://rickandmortyapi.com/api/episode/6',\n",
       "   'https://rickandmortyapi.com/api/episode/7',\n",
       "   'https://rickandmortyapi.com/api/episode/8',\n",
       "   'https://rickandmortyapi.com/api/episode/9',\n",
       "   'https://rickandmortyapi.com/api/episode/10',\n",
       "   'https://rickandmortyapi.com/api/episode/11',\n",
       "   'https://rickandmortyapi.com/api/episode/12',\n",
       "   'https://rickandmortyapi.com/api/episode/14',\n",
       "   'https://rickandmortyapi.com/api/episode/15',\n",
       "   'https://rickandmortyapi.com/api/episode/16',\n",
       "   'https://rickandmortyapi.com/api/episode/18',\n",
       "   'https://rickandmortyapi.com/api/episode/19',\n",
       "   'https://rickandmortyapi.com/api/episode/20',\n",
       "   'https://rickandmortyapi.com/api/episode/21',\n",
       "   'https://rickandmortyapi.com/api/episode/22',\n",
       "   'https://rickandmortyapi.com/api/episode/23',\n",
       "   'https://rickandmortyapi.com/api/episode/24',\n",
       "   'https://rickandmortyapi.com/api/episode/25',\n",
       "   'https://rickandmortyapi.com/api/episode/26',\n",
       "   'https://rickandmortyapi.com/api/episode/27',\n",
       "   'https://rickandmortyapi.com/api/episode/28',\n",
       "   'https://rickandmortyapi.com/api/episode/29',\n",
       "   'https://rickandmortyapi.com/api/episode/30',\n",
       "   'https://rickandmortyapi.com/api/episode/31',\n",
       "   'https://rickandmortyapi.com/api/episode/32',\n",
       "   'https://rickandmortyapi.com/api/episode/33',\n",
       "   'https://rickandmortyapi.com/api/episode/34',\n",
       "   'https://rickandmortyapi.com/api/episode/35',\n",
       "   'https://rickandmortyapi.com/api/episode/36',\n",
       "   'https://rickandmortyapi.com/api/episode/38',\n",
       "   'https://rickandmortyapi.com/api/episode/39',\n",
       "   'https://rickandmortyapi.com/api/episode/40',\n",
       "   'https://rickandmortyapi.com/api/episode/41',\n",
       "   'https://rickandmortyapi.com/api/episode/42',\n",
       "   'https://rickandmortyapi.com/api/episode/43',\n",
       "   'https://rickandmortyapi.com/api/episode/44',\n",
       "   'https://rickandmortyapi.com/api/episode/45',\n",
       "   'https://rickandmortyapi.com/api/episode/46',\n",
       "   'https://rickandmortyapi.com/api/episode/47',\n",
       "   'https://rickandmortyapi.com/api/episode/48',\n",
       "   'https://rickandmortyapi.com/api/episode/49',\n",
       "   'https://rickandmortyapi.com/api/episode/51'],\n",
       "  'url': 'https://rickandmortyapi.com/api/character/4',\n",
       "  'created': '2017-11-04T19:22:43.665Z'},\n",
       " {'id': 5,\n",
       "  'name': 'Jerry Smith',\n",
       "  'status': 'Alive',\n",
       "  'species': 'Human',\n",
       "  'type': '',\n",
       "  'gender': 'Male',\n",
       "  'origin': {'name': 'Earth (Replacement Dimension)',\n",
       "   'url': 'https://rickandmortyapi.com/api/location/20'},\n",
       "  'location': {'name': 'Earth (Replacement Dimension)',\n",
       "   'url': 'https://rickandmortyapi.com/api/location/20'},\n",
       "  'image': 'https://rickandmortyapi.com/api/character/avatar/5.jpeg',\n",
       "  'episode': ['https://rickandmortyapi.com/api/episode/6',\n",
       "   'https://rickandmortyapi.com/api/episode/7',\n",
       "   'https://rickandmortyapi.com/api/episode/8',\n",
       "   'https://rickandmortyapi.com/api/episode/9',\n",
       "   'https://rickandmortyapi.com/api/episode/10',\n",
       "   'https://rickandmortyapi.com/api/episode/11',\n",
       "   'https://rickandmortyapi.com/api/episode/12',\n",
       "   'https://rickandmortyapi.com/api/episode/13',\n",
       "   'https://rickandmortyapi.com/api/episode/14',\n",
       "   'https://rickandmortyapi.com/api/episode/15',\n",
       "   'https://rickandmortyapi.com/api/episode/16',\n",
       "   'https://rickandmortyapi.com/api/episode/18',\n",
       "   'https://rickandmortyapi.com/api/episode/19',\n",
       "   'https://rickandmortyapi.com/api/episode/20',\n",
       "   'https://rickandmortyapi.com/api/episode/21',\n",
       "   'https://rickandmortyapi.com/api/episode/22',\n",
       "   'https://rickandmortyapi.com/api/episode/23',\n",
       "   'https://rickandmortyapi.com/api/episode/26',\n",
       "   'https://rickandmortyapi.com/api/episode/29',\n",
       "   'https://rickandmortyapi.com/api/episode/30',\n",
       "   'https://rickandmortyapi.com/api/episode/31',\n",
       "   'https://rickandmortyapi.com/api/episode/32',\n",
       "   'https://rickandmortyapi.com/api/episode/33',\n",
       "   'https://rickandmortyapi.com/api/episode/35',\n",
       "   'https://rickandmortyapi.com/api/episode/36',\n",
       "   'https://rickandmortyapi.com/api/episode/38',\n",
       "   'https://rickandmortyapi.com/api/episode/39',\n",
       "   'https://rickandmortyapi.com/api/episode/40',\n",
       "   'https://rickandmortyapi.com/api/episode/41',\n",
       "   'https://rickandmortyapi.com/api/episode/42',\n",
       "   'https://rickandmortyapi.com/api/episode/43',\n",
       "   'https://rickandmortyapi.com/api/episode/44',\n",
       "   'https://rickandmortyapi.com/api/episode/45',\n",
       "   'https://rickandmortyapi.com/api/episode/46',\n",
       "   'https://rickandmortyapi.com/api/episode/47',\n",
       "   'https://rickandmortyapi.com/api/episode/48',\n",
       "   'https://rickandmortyapi.com/api/episode/49',\n",
       "   'https://rickandmortyapi.com/api/episode/50',\n",
       "   'https://rickandmortyapi.com/api/episode/51'],\n",
       "  'url': 'https://rickandmortyapi.com/api/character/5',\n",
       "  'created': '2017-11-04T19:26:56.301Z'},\n",
       " {'id': 6,\n",
       "  'name': 'Abadango Cluster Princess',\n",
       "  'status': 'Alive',\n",
       "  'species': 'Alien',\n",
       "  'type': '',\n",
       "  'gender': 'Female',\n",
       "  'origin': {'name': 'Abadango',\n",
       "   'url': 'https://rickandmortyapi.com/api/location/2'},\n",
       "  'location': {'name': 'Abadango',\n",
       "   'url': 'https://rickandmortyapi.com/api/location/2'},\n",
       "  'image': 'https://rickandmortyapi.com/api/character/avatar/6.jpeg',\n",
       "  'episode': ['https://rickandmortyapi.com/api/episode/27'],\n",
       "  'url': 'https://rickandmortyapi.com/api/character/6',\n",
       "  'created': '2017-11-04T19:50:28.250Z'},\n",
       " {'id': 7,\n",
       "  'name': 'Abradolf Lincler',\n",
       "  'status': 'unknown',\n",
       "  'species': 'Human',\n",
       "  'type': 'Genetic experiment',\n",
       "  'gender': 'Male',\n",
       "  'origin': {'name': 'Earth (Replacement Dimension)',\n",
       "   'url': 'https://rickandmortyapi.com/api/location/20'},\n",
       "  'location': {'name': 'Testicle Monster Dimension',\n",
       "   'url': 'https://rickandmortyapi.com/api/location/21'},\n",
       "  'image': 'https://rickandmortyapi.com/api/character/avatar/7.jpeg',\n",
       "  'episode': ['https://rickandmortyapi.com/api/episode/10',\n",
       "   'https://rickandmortyapi.com/api/episode/11'],\n",
       "  'url': 'https://rickandmortyapi.com/api/character/7',\n",
       "  'created': '2017-11-04T19:59:20.523Z'},\n",
       " {'id': 8,\n",
       "  'name': 'Adjudicator Rick',\n",
       "  'status': 'Dead',\n",
       "  'species': 'Human',\n",
       "  'type': '',\n",
       "  'gender': 'Male',\n",
       "  'origin': {'name': 'unknown', 'url': ''},\n",
       "  'location': {'name': 'Citadel of Ricks',\n",
       "   'url': 'https://rickandmortyapi.com/api/location/3'},\n",
       "  'image': 'https://rickandmortyapi.com/api/character/avatar/8.jpeg',\n",
       "  'episode': ['https://rickandmortyapi.com/api/episode/28'],\n",
       "  'url': 'https://rickandmortyapi.com/api/character/8',\n",
       "  'created': '2017-11-04T20:03:34.737Z'},\n",
       " {'id': 9,\n",
       "  'name': 'Agency Director',\n",
       "  'status': 'Dead',\n",
       "  'species': 'Human',\n",
       "  'type': '',\n",
       "  'gender': 'Male',\n",
       "  'origin': {'name': 'Earth (Replacement Dimension)',\n",
       "   'url': 'https://rickandmortyapi.com/api/location/20'},\n",
       "  'location': {'name': 'Earth (Replacement Dimension)',\n",
       "   'url': 'https://rickandmortyapi.com/api/location/20'},\n",
       "  'image': 'https://rickandmortyapi.com/api/character/avatar/9.jpeg',\n",
       "  'episode': ['https://rickandmortyapi.com/api/episode/24'],\n",
       "  'url': 'https://rickandmortyapi.com/api/character/9',\n",
       "  'created': '2017-11-04T20:06:54.976Z'},\n",
       " {'id': 10,\n",
       "  'name': 'Alan Rails',\n",
       "  'status': 'Dead',\n",
       "  'species': 'Human',\n",
       "  'type': 'Superhuman (Ghost trains summoner)',\n",
       "  'gender': 'Male',\n",
       "  'origin': {'name': 'unknown', 'url': ''},\n",
       "  'location': {'name': \"Worldender's lair\",\n",
       "   'url': 'https://rickandmortyapi.com/api/location/4'},\n",
       "  'image': 'https://rickandmortyapi.com/api/character/avatar/10.jpeg',\n",
       "  'episode': ['https://rickandmortyapi.com/api/episode/25'],\n",
       "  'url': 'https://rickandmortyapi.com/api/character/10',\n",
       "  'created': '2017-11-04T20:19:09.017Z'},\n",
       " {'id': 11,\n",
       "  'name': 'Albert Einstein',\n",
       "  'status': 'Dead',\n",
       "  'species': 'Human',\n",
       "  'type': '',\n",
       "  'gender': 'Male',\n",
       "  'origin': {'name': 'Earth (C-137)',\n",
       "   'url': 'https://rickandmortyapi.com/api/location/1'},\n",
       "  'location': {'name': 'Earth (Replacement Dimension)',\n",
       "   'url': 'https://rickandmortyapi.com/api/location/20'},\n",
       "  'image': 'https://rickandmortyapi.com/api/character/avatar/11.jpeg',\n",
       "  'episode': ['https://rickandmortyapi.com/api/episode/12'],\n",
       "  'url': 'https://rickandmortyapi.com/api/character/11',\n",
       "  'created': '2017-11-04T20:20:20.965Z'},\n",
       " {'id': 12,\n",
       "  'name': 'Alexander',\n",
       "  'status': 'Dead',\n",
       "  'species': 'Human',\n",
       "  'type': '',\n",
       "  'gender': 'Male',\n",
       "  'origin': {'name': 'Earth (C-137)',\n",
       "   'url': 'https://rickandmortyapi.com/api/location/1'},\n",
       "  'location': {'name': 'Anatomy Park',\n",
       "   'url': 'https://rickandmortyapi.com/api/location/5'},\n",
       "  'image': 'https://rickandmortyapi.com/api/character/avatar/12.jpeg',\n",
       "  'episode': ['https://rickandmortyapi.com/api/episode/3'],\n",
       "  'url': 'https://rickandmortyapi.com/api/character/12',\n",
       "  'created': '2017-11-04T20:32:33.144Z'},\n",
       " {'id': 13,\n",
       "  'name': 'Alien Googah',\n",
       "  'status': 'unknown',\n",
       "  'species': 'Alien',\n",
       "  'type': '',\n",
       "  'gender': 'unknown',\n",
       "  'origin': {'name': 'unknown', 'url': ''},\n",
       "  'location': {'name': 'Earth (Replacement Dimension)',\n",
       "   'url': 'https://rickandmortyapi.com/api/location/20'},\n",
       "  'image': 'https://rickandmortyapi.com/api/character/avatar/13.jpeg',\n",
       "  'episode': ['https://rickandmortyapi.com/api/episode/31'],\n",
       "  'url': 'https://rickandmortyapi.com/api/character/13',\n",
       "  'created': '2017-11-04T20:33:30.779Z'},\n",
       " {'id': 14,\n",
       "  'name': 'Alien Morty',\n",
       "  'status': 'unknown',\n",
       "  'species': 'Alien',\n",
       "  'type': '',\n",
       "  'gender': 'Male',\n",
       "  'origin': {'name': 'unknown', 'url': ''},\n",
       "  'location': {'name': 'Citadel of Ricks',\n",
       "   'url': 'https://rickandmortyapi.com/api/location/3'},\n",
       "  'image': 'https://rickandmortyapi.com/api/character/avatar/14.jpeg',\n",
       "  'episode': ['https://rickandmortyapi.com/api/episode/10'],\n",
       "  'url': 'https://rickandmortyapi.com/api/character/14',\n",
       "  'created': '2017-11-04T20:51:31.373Z'},\n",
       " {'id': 15,\n",
       "  'name': 'Alien Rick',\n",
       "  'status': 'unknown',\n",
       "  'species': 'Alien',\n",
       "  'type': '',\n",
       "  'gender': 'Male',\n",
       "  'origin': {'name': 'unknown', 'url': ''},\n",
       "  'location': {'name': 'Citadel of Ricks',\n",
       "   'url': 'https://rickandmortyapi.com/api/location/3'},\n",
       "  'image': 'https://rickandmortyapi.com/api/character/avatar/15.jpeg',\n",
       "  'episode': ['https://rickandmortyapi.com/api/episode/10'],\n",
       "  'url': 'https://rickandmortyapi.com/api/character/15',\n",
       "  'created': '2017-11-04T20:56:13.215Z'},\n",
       " {'id': 16,\n",
       "  'name': 'Amish Cyborg',\n",
       "  'status': 'Dead',\n",
       "  'species': 'Alien',\n",
       "  'type': 'Parasite',\n",
       "  'gender': 'Male',\n",
       "  'origin': {'name': 'unknown', 'url': ''},\n",
       "  'location': {'name': 'Earth (Replacement Dimension)',\n",
       "   'url': 'https://rickandmortyapi.com/api/location/20'},\n",
       "  'image': 'https://rickandmortyapi.com/api/character/avatar/16.jpeg',\n",
       "  'episode': ['https://rickandmortyapi.com/api/episode/15'],\n",
       "  'url': 'https://rickandmortyapi.com/api/character/16',\n",
       "  'created': '2017-11-04T21:12:45.235Z'},\n",
       " {'id': 17,\n",
       "  'name': 'Annie',\n",
       "  'status': 'Alive',\n",
       "  'species': 'Human',\n",
       "  'type': '',\n",
       "  'gender': 'Female',\n",
       "  'origin': {'name': 'Earth (C-137)',\n",
       "   'url': 'https://rickandmortyapi.com/api/location/1'},\n",
       "  'location': {'name': 'Anatomy Park',\n",
       "   'url': 'https://rickandmortyapi.com/api/location/5'},\n",
       "  'image': 'https://rickandmortyapi.com/api/character/avatar/17.jpeg',\n",
       "  'episode': ['https://rickandmortyapi.com/api/episode/3'],\n",
       "  'url': 'https://rickandmortyapi.com/api/character/17',\n",
       "  'created': '2017-11-04T22:21:24.481Z'},\n",
       " {'id': 18,\n",
       "  'name': 'Antenna Morty',\n",
       "  'status': 'Alive',\n",
       "  'species': 'Human',\n",
       "  'type': 'Human with antennae',\n",
       "  'gender': 'Male',\n",
       "  'origin': {'name': 'unknown', 'url': ''},\n",
       "  'location': {'name': 'Citadel of Ricks',\n",
       "   'url': 'https://rickandmortyapi.com/api/location/3'},\n",
       "  'image': 'https://rickandmortyapi.com/api/character/avatar/18.jpeg',\n",
       "  'episode': ['https://rickandmortyapi.com/api/episode/10',\n",
       "   'https://rickandmortyapi.com/api/episode/28'],\n",
       "  'url': 'https://rickandmortyapi.com/api/character/18',\n",
       "  'created': '2017-11-04T22:25:29.008Z'},\n",
       " {'id': 19,\n",
       "  'name': 'Antenna Rick',\n",
       "  'status': 'unknown',\n",
       "  'species': 'Human',\n",
       "  'type': 'Human with antennae',\n",
       "  'gender': 'Male',\n",
       "  'origin': {'name': 'unknown', 'url': ''},\n",
       "  'location': {'name': 'unknown', 'url': ''},\n",
       "  'image': 'https://rickandmortyapi.com/api/character/avatar/19.jpeg',\n",
       "  'episode': ['https://rickandmortyapi.com/api/episode/10'],\n",
       "  'url': 'https://rickandmortyapi.com/api/character/19',\n",
       "  'created': '2017-11-04T22:28:13.756Z'},\n",
       " {'id': 20,\n",
       "  'name': 'Ants in my Eyes Johnson',\n",
       "  'status': 'unknown',\n",
       "  'species': 'Human',\n",
       "  'type': 'Human with ants in his eyes',\n",
       "  'gender': 'Male',\n",
       "  'origin': {'name': 'unknown', 'url': ''},\n",
       "  'location': {'name': 'Interdimensional Cable',\n",
       "   'url': 'https://rickandmortyapi.com/api/location/6'},\n",
       "  'image': 'https://rickandmortyapi.com/api/character/avatar/20.jpeg',\n",
       "  'episode': ['https://rickandmortyapi.com/api/episode/8'],\n",
       "  'url': 'https://rickandmortyapi.com/api/character/20',\n",
       "  'created': '2017-11-04T22:34:53.659Z'}]"
      ]
     },
     "execution_count": 9,
     "metadata": {},
     "output_type": "execute_result"
    }
   ],
   "source": [
    "#on filtre le dictionnaire sur sa première clef\n",
    "#comme on le ferait pour sélectionner une colonne d'un dataframe\n",
    "data[\"results\"]"
   ]
  },
  {
   "cell_type": "markdown",
   "id": "f185b40c-efdb-4bcc-8d37-dba3d808dc53",
   "metadata": {},
   "source": [
    "## Manipuler des dictionnaires"
   ]
  },
  {
   "cell_type": "code",
   "execution_count": 10,
   "id": "0a073094-079a-4e99-a4d5-7ee85a1ad1bd",
   "metadata": {},
   "outputs": [
    {
     "data": {
      "text/plain": [
       "'SQL'"
      ]
     },
     "execution_count": 10,
     "metadata": {},
     "output_type": "execute_result"
    }
   ],
   "source": [
    "#on peut tout à fait avoir des dictionnaires imbriqués\n",
    "#dans l'entrée \"lang\" il y a un dictionnaire\n",
    "# que l'on peut à son tour analyser\n",
    "d = { \"nom\": \"Sam\", \"ville\" : \"Paris\", \"lang\" : {\"nom_1\": \"SQL\", \"nom_2\":\"Python\"} }\n",
    "\n",
    "#filtre sur lang\n",
    "d[\"lang\"]\n",
    "\n",
    "#filtre sur la première valeur dans lang\n",
    "d[\"lang\"][\"nom_1\"]"
   ]
  },
  {
   "cell_type": "markdown",
   "id": "962d8311-9a2d-4c60-8d06-ea8626efca1e",
   "metadata": {},
   "source": [
    "## Extraire les données récupérées via API"
   ]
  },
  {
   "cell_type": "code",
   "execution_count": 11,
   "id": "91ac867a-f57b-4521-9d28-521da72727d1",
   "metadata": {},
   "outputs": [
    {
     "data": {
      "text/plain": [
       "20"
      ]
     },
     "execution_count": 11,
     "metadata": {},
     "output_type": "execute_result"
    }
   ],
   "source": [
    "#Question 4: compter le nombre de personnages\n",
    "len(data[\"results\"])"
   ]
  },
  {
   "cell_type": "code",
   "execution_count": 12,
   "id": "72d3ba27-586c-4925-a7f6-ec027aeda0e6",
   "metadata": {},
   "outputs": [
    {
     "data": {
      "text/plain": [
       "dict_keys(['id', 'name', 'status', 'species', 'type', 'gender', 'origin', 'location', 'image', 'episode', 'url', 'created'])"
      ]
     },
     "execution_count": 12,
     "metadata": {},
     "output_type": "execute_result"
    }
   ],
   "source": [
    "#Question 5: Afficher les attributs du premier personnage\n",
    "data[\"results\"][0].keys()"
   ]
  },
  {
   "cell_type": "code",
   "execution_count": 13,
   "id": "46ff19f5-3e16-466b-a54d-8a826419961c",
   "metadata": {},
   "outputs": [
    {
     "name": "stdout",
     "output_type": "stream",
     "text": [
      "dict_keys(['id', 'name', 'status', 'species', 'type', 'gender', 'origin', 'location', 'image', 'episode', 'url', 'created'])\n",
      "dict_keys(['id', 'name', 'status', 'species', 'type', 'gender', 'origin', 'location', 'image', 'episode', 'url', 'created'])\n",
      "dict_keys(['id', 'name', 'status', 'species', 'type', 'gender', 'origin', 'location', 'image', 'episode', 'url', 'created'])\n",
      "dict_keys(['id', 'name', 'status', 'species', 'type', 'gender', 'origin', 'location', 'image', 'episode', 'url', 'created'])\n",
      "dict_keys(['id', 'name', 'status', 'species', 'type', 'gender', 'origin', 'location', 'image', 'episode', 'url', 'created'])\n",
      "dict_keys(['id', 'name', 'status', 'species', 'type', 'gender', 'origin', 'location', 'image', 'episode', 'url', 'created'])\n",
      "dict_keys(['id', 'name', 'status', 'species', 'type', 'gender', 'origin', 'location', 'image', 'episode', 'url', 'created'])\n",
      "dict_keys(['id', 'name', 'status', 'species', 'type', 'gender', 'origin', 'location', 'image', 'episode', 'url', 'created'])\n",
      "dict_keys(['id', 'name', 'status', 'species', 'type', 'gender', 'origin', 'location', 'image', 'episode', 'url', 'created'])\n",
      "dict_keys(['id', 'name', 'status', 'species', 'type', 'gender', 'origin', 'location', 'image', 'episode', 'url', 'created'])\n",
      "dict_keys(['id', 'name', 'status', 'species', 'type', 'gender', 'origin', 'location', 'image', 'episode', 'url', 'created'])\n",
      "dict_keys(['id', 'name', 'status', 'species', 'type', 'gender', 'origin', 'location', 'image', 'episode', 'url', 'created'])\n",
      "dict_keys(['id', 'name', 'status', 'species', 'type', 'gender', 'origin', 'location', 'image', 'episode', 'url', 'created'])\n",
      "dict_keys(['id', 'name', 'status', 'species', 'type', 'gender', 'origin', 'location', 'image', 'episode', 'url', 'created'])\n",
      "dict_keys(['id', 'name', 'status', 'species', 'type', 'gender', 'origin', 'location', 'image', 'episode', 'url', 'created'])\n",
      "dict_keys(['id', 'name', 'status', 'species', 'type', 'gender', 'origin', 'location', 'image', 'episode', 'url', 'created'])\n",
      "dict_keys(['id', 'name', 'status', 'species', 'type', 'gender', 'origin', 'location', 'image', 'episode', 'url', 'created'])\n",
      "dict_keys(['id', 'name', 'status', 'species', 'type', 'gender', 'origin', 'location', 'image', 'episode', 'url', 'created'])\n",
      "dict_keys(['id', 'name', 'status', 'species', 'type', 'gender', 'origin', 'location', 'image', 'episode', 'url', 'created'])\n",
      "dict_keys(['id', 'name', 'status', 'species', 'type', 'gender', 'origin', 'location', 'image', 'episode', 'url', 'created'])\n"
     ]
    }
   ],
   "source": [
    "#Question 6: Vérifier que tous les personnages ont bien les mêmes attributs\n",
    "\n",
    "for i in range( len( data[\"results\"] ) ):\n",
    "    print( data[\"results\"][i].keys() )"
   ]
  },
  {
   "cell_type": "code",
   "execution_count": 14,
   "id": "2530e6ae-b29b-4d02-9a78-97c2bbf824eb",
   "metadata": {},
   "outputs": [
    {
     "ename": "NameError",
     "evalue": "name 'key_value' is not defined",
     "output_type": "error",
     "traceback": [
      "\u001b[1;31m---------------------------------------------------------------------------\u001b[0m",
      "\u001b[1;31mNameError\u001b[0m                                 Traceback (most recent call last)",
      "\u001b[1;32m~\\AppData\\Local\\Temp/ipykernel_11340/3404066953.py\u001b[0m in \u001b[0;36m<module>\u001b[1;34m\u001b[0m\n\u001b[0;32m      6\u001b[0m \u001b[0mresult\u001b[0m \u001b[1;33m=\u001b[0m \u001b[1;33m[\u001b[0m\u001b[1;33m]\u001b[0m\u001b[1;33m\u001b[0m\u001b[1;33m\u001b[0m\u001b[0m\n\u001b[0;32m      7\u001b[0m \u001b[1;32mfor\u001b[0m \u001b[0me\u001b[0m \u001b[1;32min\u001b[0m \u001b[0mmy_list\u001b[0m \u001b[1;33m:\u001b[0m\u001b[1;33m\u001b[0m\u001b[1;33m\u001b[0m\u001b[0m\n\u001b[1;32m----> 8\u001b[1;33m     \u001b[1;32mif\u001b[0m \u001b[0me\u001b[0m\u001b[1;33m.\u001b[0m\u001b[0mkeys\u001b[0m\u001b[1;33m(\u001b[0m\u001b[1;33m)\u001b[0m \u001b[1;33m==\u001b[0m \u001b[0mkey_value\u001b[0m\u001b[1;33m.\u001b[0m\u001b[0mkeys\u001b[0m\u001b[1;33m(\u001b[0m\u001b[1;33m)\u001b[0m\u001b[1;33m:\u001b[0m\u001b[1;33m\u001b[0m\u001b[1;33m\u001b[0m\u001b[0m\n\u001b[0m\u001b[0;32m      9\u001b[0m         \u001b[0mresult\u001b[0m\u001b[1;33m.\u001b[0m\u001b[0mappend\u001b[0m\u001b[1;33m(\u001b[0m\u001b[1;32mTrue\u001b[0m\u001b[1;33m)\u001b[0m\u001b[1;33m\u001b[0m\u001b[1;33m\u001b[0m\u001b[0m\n\u001b[0;32m     10\u001b[0m     \u001b[1;32melse\u001b[0m\u001b[1;33m:\u001b[0m\u001b[1;33m\u001b[0m\u001b[1;33m\u001b[0m\u001b[0m\n",
      "\u001b[1;31mNameError\u001b[0m: name 'key_value' is not defined"
     ]
    }
   ],
   "source": [
    "#autre manière proposée\n",
    "#en vérifiant pour chaque personnage s'il a bien les mêmes attributs que le premier personnage\n",
    "\n",
    "my_list = data['results'][0:]\n",
    "my_list\n",
    "result = []\n",
    "for e in my_list :\n",
    "    if e.keys() == key_value.keys():\n",
    "        result.append(True)\n",
    "    else:\n",
    "        result.append(False)\n",
    "print(result)"
   ]
  },
  {
   "cell_type": "code",
   "execution_count": 15,
   "id": "a0b04c1d-6f10-4be9-a256-0ba9065294ea",
   "metadata": {},
   "outputs": [
    {
     "data": {
      "text/plain": [
       "'Alexander'"
      ]
     },
     "execution_count": 15,
     "metadata": {},
     "output_type": "execute_result"
    }
   ],
   "source": [
    "#Question 7\n",
    "\n",
    "data[\"results\"][11][\"name\"]"
   ]
  },
  {
   "cell_type": "code",
   "execution_count": 16,
   "id": "5da24533-2e57-4433-9c3b-580a70f30778",
   "metadata": {},
   "outputs": [
    {
     "data": {
      "text/plain": [
       "1"
      ]
     },
     "execution_count": 16,
     "metadata": {},
     "output_type": "execute_result"
    }
   ],
   "source": [
    "#Question 8\n",
    "\n",
    "len(data[\"results\"][5][\"episode\"])"
   ]
  },
  {
   "cell_type": "code",
   "execution_count": 17,
   "id": "e567d2c6-0da9-44bf-adf6-e5ff5bf88631",
   "metadata": {},
   "outputs": [
    {
     "data": {
      "text/plain": [
       "'Human'"
      ]
     },
     "execution_count": 17,
     "metadata": {},
     "output_type": "execute_result"
    }
   ],
   "source": [
    "#Question 9\n",
    "\n",
    "data[\"results\"][4][\"species\"]"
   ]
  },
  {
   "cell_type": "markdown",
   "id": "eb616e24-64b9-4067-abd9-06ae157ed986",
   "metadata": {},
   "source": [
    "## Revoir les list comprehension"
   ]
  },
  {
   "cell_type": "code",
   "execution_count": 18,
   "id": "de498500-57dc-4bbf-b1fa-249291eda983",
   "metadata": {},
   "outputs": [
    {
     "name": "stdout",
     "output_type": "stream",
     "text": [
      "2\n",
      "3\n",
      "4\n",
      "5\n",
      "6\n",
      "7\n"
     ]
    }
   ],
   "source": [
    "l_depart = [1,2,3,4,5,6]\n",
    "\n",
    "#créer une nouvelle liste avec tous les éléments de la liste l incrémentés de 1\n",
    "\n",
    "#Avec une boucle for traditionnelle\n",
    "\n",
    "l_arrivee = []\n",
    "\n",
    "for element_depart in l_depart:\n",
    "    element_arrivee = element_depart + 1\n",
    "    l_arrivee.append(element_arrivee)\n",
    "    print(element_arrivee)\n",
    "    \n",
    "#Conversion en list comprehension\n",
    "#nouvelle_liste = [ opération for element in colonne/liste ]\n",
    "\n",
    "l_arrivee = [ element_depart + 1 for element_depart in l_depart ]"
   ]
  },
  {
   "cell_type": "code",
   "execution_count": null,
   "id": "f54ee3e0",
   "metadata": {},
   "outputs": [],
   "source": []
  }
 ],
 "metadata": {
  "kernelspec": {
   "display_name": "Python 3 (ipykernel)",
   "language": "python",
   "name": "python3"
  },
  "language_info": {
   "codemirror_mode": {
    "name": "ipython",
    "version": 3
   },
   "file_extension": ".py",
   "mimetype": "text/x-python",
   "name": "python",
   "nbconvert_exporter": "python",
   "pygments_lexer": "ipython3",
   "version": "3.9.7"
  }
 },
 "nbformat": 4,
 "nbformat_minor": 5
}
